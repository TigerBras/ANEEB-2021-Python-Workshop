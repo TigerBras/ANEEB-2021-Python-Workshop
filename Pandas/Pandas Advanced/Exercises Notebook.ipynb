{
 "cells": [
  {
   "cell_type": "code",
   "execution_count": 12,
   "metadata": {},
   "outputs": [],
   "source": [
    "# importing packages\n",
    "\n",
    "import pandas as pd\n",
    "import numpy as np\n",
    "\n",
    "from hashlib import sha256\n",
    "import json\n",
    "\n",
    "import matplotlib.pyplot as plt\n",
    "\n",
    "from IPython.core.interactiveshell import InteractiveShell\n",
    "InteractiveShell.ast_node_interactivity = \"all\""
   ]
  },
  {
   "cell_type": "markdown",
   "metadata": {},
   "source": [
    "## Background"
   ]
  },
  {
   "cell_type": "markdown",
   "metadata": {},
   "source": [
    "Depois de meses a fazer, candidatures finalmente consegues um estágio de Verão no laboratório **LabOfLife (LOL)**\n",
    "\n",
    "Começas o estágio. És inserido numa equipa de laboratório que analisa proteínas e as suas propriedades. Nos primeiros dias és introduzido aos diversos projetos que o laboratório tem e também à equipa onde te vais inserir, e mal podes esperar por começar a aprender e a aplicar os teus conhecimentos.\n",
    "\n",
    "Certo dia chegas ao laboratório bem cedo, e mal entras na sala ficas surpreso por ver toda a tua equipa já lá, e ainda por cima o ambiente parece pesado... Preocupado, chegas-te a uma colega e perguntas o que se está a passar. Ela diz-te: \n",
    "\n",
    "\n",
    "> \"Estamos a analisar as fosforilações presentes num proteoma de alfa-casína. Para isso fizémos uma experiência e recolhemos os dados todos para o ficheiro `data/dados.csv`. No entanto passámos a noite toda a tentar terminar a nossa análise das fosforilações, mas a única coisa que conseguimos fazer foi uma função que está no ficheiro `utils.py` que extrai só os eventos de fosforilações da coluna que contém todas as modificações que aconteceram às proteínas\"\n",
    "\n",
    "Aprontamente, tu ofereces a tua ajuda:\n",
    "\n",
    "> \"Não te preocupes. Eu fiz um workshop de Pandas e Python organizado pelo ANEEB e consigo-vos ajudar, explica-me melhor a situação e eu resolvo isto em menos de 1h.\"\n",
    "\n",
    "Os teus colegas agradecem-te, explicam a situação de forma detalhada e vão descansar para casa.\n"
   ]
  },
  {
   "cell_type": "markdown",
   "metadata": {},
   "source": [
    "**background**:\n",
    "> Estamos a testar umas nanopartículas (IMAC – immobilized ion metal afinity chromatography) que servem para pré-concentrar os fosfopeptidos. Queremos testar se a nossa concentração foi bem feita olhando para as fosforilações das sequencias de aminoácidos.\n",
    "\n",
    "**Objetivo**:\n",
    "\n",
    "> Analisar o número total de fosforilações por sequência de aminoácidos, bem como o número de fosforilações que ocorrem nos aminoácidos S, T e Y. Queremos verificar se rondamos a distribuição esperada: 80% de S, 18% de T e 2% de Y. Caso os resultados apontem para números muito diferentes estamos perante selectividades diferentes.\n",
    "\n",
    "\n",
    "**Dados**:\n",
    "\n",
    "> Os dados com que vais trabalhar resultam de análise por espectrometria de massa da pré-concentração usando IMACs de titânio, európio e samário por um programa chamado MASCOT. O dataset contém muita informação, mas para esta análise só nos interessa olhar para a **sequência** de aminoácidos e as fosforilações que estão presentes na coluna de **modificações**."
   ]
  },
  {
   "cell_type": "markdown",
   "metadata": {},
   "source": [
    "# Exercise 1 - Prepare de data"
   ]
  },
  {
   "cell_type": "markdown",
   "metadata": {},
   "source": [
    "## Exercise 1.1 - Read the data"
   ]
  },
  {
   "cell_type": "code",
   "execution_count": 6,
   "metadata": {},
   "outputs": [],
   "source": [
    "# df = ... # uncomment to provide an answer\n",
    "\n",
    "# df.head() # uncomment to inspect the data"
   ]
  },
  {
   "cell_type": "code",
   "execution_count": 7,
   "metadata": {},
   "outputs": [],
   "source": [
    "df=pd.read_csv('data/dados_fosforilacoes_aminoacidos.csv')"
   ]
  },
  {
   "cell_type": "markdown",
   "metadata": {},
   "source": [
    "Evaluation cell below"
   ]
  },
  {
   "cell_type": "code",
   "execution_count": 14,
   "metadata": {},
   "outputs": [],
   "source": [
    "# don't forget to hide contents by default\n",
    "assert df.shape==(2541,20), \"Oops!\""
   ]
  },
  {
   "cell_type": "markdown",
   "metadata": {},
   "source": [
    "## Exercise 1.2 - Select relevant columns\n",
    "\n",
    "There's a lot of information on this dataset, but you remember that the problem consists of analyzing only the phosphorylation events out of all **Modifications** that occurred on the **Sequence** of aminoacids. Look for the 2 columns that contain this information and create a new dataframe that only contains these columns."
   ]
  },
  {
   "cell_type": "code",
   "execution_count": 2,
   "metadata": {},
   "outputs": [],
   "source": [
    "#relevant_columns = [... , ...] # uncomment to provide an answer. hint: this should be a list of two strings\n",
    "\n",
    "#phospho_df = df[relevant_columns] # uncomment to provide an answer\n",
    "#phospho_df.head() "
   ]
  },
  {
   "cell_type": "code",
   "execution_count": 50,
   "metadata": {},
   "outputs": [
    {
     "data": {
      "text/html": [
       "<div>\n",
       "<style scoped>\n",
       "    .dataframe tbody tr th:only-of-type {\n",
       "        vertical-align: middle;\n",
       "    }\n",
       "\n",
       "    .dataframe tbody tr th {\n",
       "        vertical-align: top;\n",
       "    }\n",
       "\n",
       "    .dataframe thead th {\n",
       "        text-align: right;\n",
       "    }\n",
       "</style>\n",
       "<table border=\"1\" class=\"dataframe\">\n",
       "  <thead>\n",
       "    <tr style=\"text-align: right;\">\n",
       "      <th></th>\n",
       "      <th>Sequence</th>\n",
       "      <th>Modifications</th>\n",
       "    </tr>\n",
       "  </thead>\n",
       "  <tbody>\n",
       "    <tr>\n",
       "      <th>0</th>\n",
       "      <td>K.TVDMESTEVFTK.K</td>\n",
       "      <td>Acetyl: 1; Oxidation: 4; Phospho: 6</td>\n",
       "    </tr>\n",
       "    <tr>\n",
       "      <th>1</th>\n",
       "      <td>K.VPQLEIVPNSAEER.L</td>\n",
       "      <td>Phospho: 10</td>\n",
       "    </tr>\n",
       "    <tr>\n",
       "      <th>2</th>\n",
       "      <td>K.VPQLEIVPNSAEER.L</td>\n",
       "      <td>Phospho: 10</td>\n",
       "    </tr>\n",
       "    <tr>\n",
       "      <th>3</th>\n",
       "      <td>K.VPQLEIVPNSAEER.L</td>\n",
       "      <td>Phospho: 10</td>\n",
       "    </tr>\n",
       "    <tr>\n",
       "      <th>4</th>\n",
       "      <td>K.VPQLEIVPNSAEER.L</td>\n",
       "      <td>Phospho: 10</td>\n",
       "    </tr>\n",
       "  </tbody>\n",
       "</table>\n",
       "</div>"
      ],
      "text/plain": [
       "             Sequence                        Modifications\n",
       "0    K.TVDMESTEVFTK.K  Acetyl: 1; Oxidation: 4; Phospho: 6\n",
       "1  K.VPQLEIVPNSAEER.L                          Phospho: 10\n",
       "2  K.VPQLEIVPNSAEER.L                          Phospho: 10\n",
       "3  K.VPQLEIVPNSAEER.L                          Phospho: 10\n",
       "4  K.VPQLEIVPNSAEER.L                          Phospho: 10"
      ]
     },
     "execution_count": 50,
     "metadata": {},
     "output_type": "execute_result"
    }
   ],
   "source": [
    "relevant_columns = [\"Sequence\", 'Modifications'] # uncomment to provide an answer. hint: this should be a list of two strings\n",
    "\n",
    "phospho_df = df[relevant_columns] # uncomment to provide an answer\n",
    "phospho_df.head() "
   ]
  },
  {
   "cell_type": "code",
   "execution_count": 52,
   "metadata": {},
   "outputs": [],
   "source": [
    "hash_df = b'\\xe9\\x9c\\xc8\\x8d9\\xc9\\x9e\\x1d\\xf2\\xe4B\\xc6\\xc1S+\\x9aPt\\xa8\\x89\\xc8\\x00[!\\xd8:-\\xfa~\\xb0\\xae\\xcd'\n",
    "\n",
    "assert phospho_df.shape==(2541,2), \"Oops!\"\n",
    "assert sha256(phospho_df.reindex(sorted(phospho_df.columns), axis=1).to_dict().__str__().encode()).digest() == hash_df"
   ]
  },
  {
   "cell_type": "code",
   "execution_count": null,
   "metadata": {},
   "outputs": [],
   "source": []
  },
  {
   "cell_type": "markdown",
   "metadata": {},
   "source": [
    "# Exercise 2"
   ]
  },
  {
   "cell_type": "markdown",
   "metadata": {},
   "source": [
    "## Exercise 2.1 - Clean the Sequence column"
   ]
  },
  {
   "cell_type": "markdown",
   "metadata": {},
   "source": [
    "We have the data we need. The `Modifications` column contains the position of each reaction in the sequence. However, the `Sequence` column needs some cleaning because each aminoacid sequence is in the middle of two full stops: \"\\<Letter\\>.**\\<sequence\\>**.\\<Letter\\>\"\n",
    "\n",
    "**Objective**: create a function that receives a sequence in its raw form and extracts only the actual sequence."
   ]
  },
  {
   "cell_type": "code",
   "execution_count": 54,
   "metadata": {},
   "outputs": [],
   "source": [
    "def clean_sequence(sequence):\n",
    "    \"\"\"\n",
    "    Extract the actual aminoacid sequence from a MASCOT sequence.\n",
    "    \n",
    "    Parameters\n",
    "    ----------\n",
    "    \n",
    "    sequence : str\n",
    "        An sequence produced by the program MASCOT.\n",
    "        \n",
    "    Returns\n",
    "    -------\n",
    "    \n",
    "    amino_sequence : str\n",
    "        The aminoacid sequence\n",
    "    \n",
    "    Examples\n",
    "    --------\n",
    "    \n",
    "    sequence = 'K.VPQLEIVPNSAEER.L'\n",
    "    clean_sequence(sequence)\n",
    "    >>> 'VPQLEIVPNSAEER'\n",
    "    \n",
    "    \"\"\"\n",
    "    \n",
    "    # amino_sequence = ...\n",
    "    return amino_sequence\n",
    "\n",
    "# try it yourself!\n",
    "# example = 'K.VPQLEIVPNSAEER.L' # uncomment to test the function\n",
    "# clean_sequence(example) # uncomment to test the function"
   ]
  },
  {
   "cell_type": "markdown",
   "metadata": {},
   "source": []
  },
  {
   "cell_type": "code",
   "execution_count": null,
   "metadata": {},
   "outputs": [],
   "source": []
  }
 ],
 "metadata": {
  "kernelspec": {
   "display_name": "Python [conda env:aneeb]",
   "language": "python",
   "name": "conda-env-aneeb-py"
  },
  "language_info": {
   "codemirror_mode": {
    "name": "ipython",
    "version": 3
   },
   "file_extension": ".py",
   "mimetype": "text/x-python",
   "name": "python",
   "nbconvert_exporter": "python",
   "pygments_lexer": "ipython3",
   "version": "3.8.1"
  }
 },
 "nbformat": 4,
 "nbformat_minor": 4
}
