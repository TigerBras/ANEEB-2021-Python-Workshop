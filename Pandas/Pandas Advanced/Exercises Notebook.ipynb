{
 "cells": [
  {
   "cell_type": "code",
   "execution_count": 2,
   "metadata": {},
   "outputs": [],
   "source": [
    "# importing packages\n",
    "\n",
    "import pandas as pd\n",
    "import numpy as np\n",
    "\n",
    "import matplotlib.pyplot as plt\n",
    "\n",
    "from IPython.core.interactiveshell import InteractiveShell\n",
    "InteractiveShell.ast_node_interactivity = \"all\""
   ]
  },
  {
   "cell_type": "markdown",
   "metadata": {},
   "source": [
    "Depois de uns meses a fazer candidatures e falares com pessoas no LinkedIn para conseguires um um estágio de Verão, finalmente és aceite pela empresa **LabOfLife (LOL)**\n",
    "\n",
    "Estamos a 1 de Junho, no primeiro dia do teu estágio. Acabaste de entraste numa nova equipa de laboratório que analisa proteínas e as suas propriedades. Nos primeiros dias és introduzido aos diversos projetos que o laboratório tem e também à equipa onde te vais inserir, e mal podes esperar por começar a aprender.\n",
    "\n",
    "Estamos no 3º dia, chegas cedo ao laboratório e são 9 da manhã. Mal entras na sala da tua equipa, ficas surpreso por ver toda a gente já lá e ainda por cima reparas nas olheiras assutadoras que todos têm. Preocupado, chegas-te a uma colega e perguntas o que se está a passar. Ela, cansada, diz-te: \n",
    "\n",
    "\n",
    "> \"Estamos a analisar as fosforilações presentes num proteoma de alfa-casína. Para isso fizémos uma experiência e recolhemos os dados todos para o ficheiro `data/dados.csv`. No entanto passámos a noite toda a tentar terminar a nossa análise das fosforilações, mas a única coisa que conseguimos fazer foi uma função que está no ficheiro `utils.py` que extrai só os eventos de fosforilações da coluna que contém todas as modificações que aconteceram às proteínas\"\n",
    "\n",
    "Aprontamente, tu ofereces a tua ajuda:\n",
    "\n",
    "> \"Não te preocupes. Eu fiz um workshop de Pandas e Python organizado pelo ANEEB e consigo-vos ajudar, explica-me melhor a situação e eu resolvo isto em menos de 1h.\"\n",
    "\n",
    "O resto da sala procede a explicar-te exatamente o problema, de seguida agradecem-te e foram descansar para casa.\n"
   ]
  },
  {
   "cell_type": "markdown",
   "metadata": {},
   "source": [
    "**Contexto**:\n",
    "> As fosforilações são modificações que ocorrem nos aminoácidos S, T e Y. São eventos dinâmicos e de baixa expressão. No proteoma total estes têm que ser pré-concentrados antes da análise por espectrometria de massa.\n",
    "Para isso existem inúmeras opções, mas nem todas as proteínas têm a mesma afinidade para o tipo de sequência, aminoácido fosforilado ou até mesmo para a multiplicidade de fosforilações numa determinada sequência. \n",
    "\n",
    "**Problema**:\n",
    "\n",
    "> Então, aqui vamos querer analisar o número total de fosforilações por sequência, bem como o número de fosforilações que ocorrem nos aminoácidos S, T e Y."
   ]
  },
  {
   "cell_type": "markdown",
   "metadata": {},
   "source": [
    "# Exercise 1 - Read the data"
   ]
  },
  {
   "cell_type": "code",
   "execution_count": 26,
   "metadata": {},
   "outputs": [],
   "source": [
    "df=pd.read_csv('data/dados_fosforilacoes_aminoacidos.csv')\n",
    "\n",
    "#df.head() you may uncomment this to inspect the data"
   ]
  },
  {
   "cell_type": "markdown",
   "metadata": {},
   "source": [
    "Evaluation cell below"
   ]
  },
  {
   "cell_type": "code",
   "execution_count": 14,
   "metadata": {},
   "outputs": [],
   "source": [
    "# don't forget to hide contents by default\n",
    "assert df.shape==(2541,20), \"Oops!\""
   ]
  },
  {
   "cell_type": "markdown",
   "metadata": {},
   "source": [
    "# Exercise 2 - Funnelling down\n",
    "\n",
    "There's a lot of information on this dataset, but you remember that the problem consists of analyzing only the phosphorylation events out of all **Modification** that occurred on the **sequence of aminoacids**. Look for the 2 columns that contain this information and retrieve a new dataframe consisting only of these columns"
   ]
  },
  {
   "cell_type": "code",
   "execution_count": 22,
   "metadata": {},
   "outputs": [],
   "source": [
    "protein_reactions_df = df[['Sequence','Modifications']]"
   ]
  },
  {
   "cell_type": "code",
   "execution_count": 23,
   "metadata": {},
   "outputs": [
    {
     "data": {
      "text/html": [
       "<div>\n",
       "<style scoped>\n",
       "    .dataframe tbody tr th:only-of-type {\n",
       "        vertical-align: middle;\n",
       "    }\n",
       "\n",
       "    .dataframe tbody tr th {\n",
       "        vertical-align: top;\n",
       "    }\n",
       "\n",
       "    .dataframe thead th {\n",
       "        text-align: right;\n",
       "    }\n",
       "</style>\n",
       "<table border=\"1\" class=\"dataframe\">\n",
       "  <thead>\n",
       "    <tr style=\"text-align: right;\">\n",
       "      <th></th>\n",
       "      <th>Sequence</th>\n",
       "      <th>Modifications</th>\n",
       "    </tr>\n",
       "  </thead>\n",
       "  <tbody>\n",
       "    <tr>\n",
       "      <th>0</th>\n",
       "      <td>K.TVDMESTEVFTK.K</td>\n",
       "      <td>Acetyl: 1; Oxidation: 4; Phospho: 6</td>\n",
       "    </tr>\n",
       "    <tr>\n",
       "      <th>1</th>\n",
       "      <td>K.VPQLEIVPNSAEER.L</td>\n",
       "      <td>Phospho: 10</td>\n",
       "    </tr>\n",
       "    <tr>\n",
       "      <th>2</th>\n",
       "      <td>K.VPQLEIVPNSAEER.L</td>\n",
       "      <td>Phospho: 10</td>\n",
       "    </tr>\n",
       "  </tbody>\n",
       "</table>\n",
       "</div>"
      ],
      "text/plain": [
       "             Sequence                        Modifications\n",
       "0    K.TVDMESTEVFTK.K  Acetyl: 1; Oxidation: 4; Phospho: 6\n",
       "1  K.VPQLEIVPNSAEER.L                          Phospho: 10\n",
       "2  K.VPQLEIVPNSAEER.L                          Phospho: 10"
      ]
     },
     "execution_count": 23,
     "metadata": {},
     "output_type": "execute_result"
    },
    {
     "data": {
      "text/plain": [
       "(2541, 2)"
      ]
     },
     "execution_count": 23,
     "metadata": {},
     "output_type": "execute_result"
    }
   ],
   "source": [
    "protein_reactions_df.head(3)\n",
    "protein_reactions_df.shape"
   ]
  },
  {
   "cell_type": "code",
   "execution_count": 24,
   "metadata": {},
   "outputs": [],
   "source": [
    "assert protein_reactions_df.shape==(2541,2), \"Oops!\""
   ]
  },
  {
   "cell_type": "code",
   "execution_count": null,
   "metadata": {},
   "outputs": [],
   "source": []
  }
 ],
 "metadata": {
  "kernelspec": {
   "display_name": "Python [conda env:aneeb]",
   "language": "python",
   "name": "conda-env-aneeb-py"
  },
  "language_info": {
   "codemirror_mode": {
    "name": "ipython",
    "version": 3
   },
   "file_extension": ".py",
   "mimetype": "text/x-python",
   "name": "python",
   "nbconvert_exporter": "python",
   "pygments_lexer": "ipython3",
   "version": "3.8.1"
  }
 },
 "nbformat": 4,
 "nbformat_minor": 4
}
