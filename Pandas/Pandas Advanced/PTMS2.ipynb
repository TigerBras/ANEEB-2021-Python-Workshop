{
 "cells": [
  {
   "cell_type": "code",
   "execution_count": 60,
   "metadata": {},
   "outputs": [],
   "source": [
    "# importing packages\n",
    "\n",
    "import pandas as pd\n",
    "import seaborn as sns\n",
    "import numpy as np\n",
    "import matplotlib.pyplot as plt\n",
    "import re # regular expressions\n",
    "\n",
    "from IPython.core.interactiveshell import InteractiveShell\n",
    "InteractiveShell.ast_node_interactivity = \"all\"\n",
    "\n",
    "from Bio.SeqUtils.ProtParam import ProteinAnalysis"
   ]
  },
  {
   "cell_type": "code",
   "execution_count": 64,
   "metadata": {},
   "outputs": [
    {
     "data": {
      "text/html": [
       "<div>\n",
       "<style scoped>\n",
       "    .dataframe tbody tr th:only-of-type {\n",
       "        vertical-align: middle;\n",
       "    }\n",
       "\n",
       "    .dataframe tbody tr th {\n",
       "        vertical-align: top;\n",
       "    }\n",
       "\n",
       "    .dataframe thead th {\n",
       "        text-align: right;\n",
       "    }\n",
       "</style>\n",
       "<table border=\"1\" class=\"dataframe\">\n",
       "  <thead>\n",
       "    <tr style=\"text-align: right;\">\n",
       "      <th></th>\n",
       "      <th>Row</th>\n",
       "      <th>User Flag</th>\n",
       "      <th>OK</th>\n",
       "      <th>Cmpd.</th>\n",
       "      <th>m/z meas.</th>\n",
       "      <th>Mr calc.</th>\n",
       "      <th>z</th>\n",
       "      <th>Δ m/z [ppm]</th>\n",
       "      <th>RMS90 [ppm]</th>\n",
       "      <th>Rt [min]</th>\n",
       "      <th>...</th>\n",
       "      <th>#Cmpds.</th>\n",
       "      <th>Site</th>\n",
       "      <th>Rank</th>\n",
       "      <th>P</th>\n",
       "      <th>Sequence</th>\n",
       "      <th>Modifications</th>\n",
       "      <th>Type</th>\n",
       "      <th>Range</th>\n",
       "      <th>Accession</th>\n",
       "      <th>Protein</th>\n",
       "    </tr>\n",
       "  </thead>\n",
       "  <tbody>\n",
       "    <tr>\n",
       "      <th>0</th>\n",
       "      <td>1</td>\n",
       "      <td>NaN</td>\n",
       "      <td>True</td>\n",
       "      <td>9938</td>\n",
       "      <td>508.753911</td>\n",
       "      <td>1523.610258</td>\n",
       "      <td>3</td>\n",
       "      <td>1.134868</td>\n",
       "      <td>5.145389</td>\n",
       "      <td>26.586875</td>\n",
       "      <td>...</td>\n",
       "      <td>45</td>\n",
       "      <td>99.966283</td>\n",
       "      <td>1</td>\n",
       "      <td>0</td>\n",
       "      <td>K.TVDMESTEVFTK.K</td>\n",
       "      <td>Acetyl: 1; Oxidation: 4; Phospho: 6</td>\n",
       "      <td>CID</td>\n",
       "      <td>153 - 164</td>\n",
       "      <td>CASA2_BOVIN</td>\n",
       "      <td>Alpha-S2-casein OS=Bos taurus GN=CSN1S2 PE=1 SV=2</td>\n",
       "    </tr>\n",
       "  </tbody>\n",
       "</table>\n",
       "<p>1 rows × 21 columns</p>\n",
       "</div>"
      ],
      "text/plain": [
       "   Row  User Flag    OK  Cmpd.   m/z meas.     Mr calc.  z  Δ m/z [ppm]  \\\n",
       "0    1        NaN  True   9938  508.753911  1523.610258  3     1.134868   \n",
       "\n",
       "   RMS90 [ppm]   Rt [min]  ... #Cmpds.       Site  Rank  P          Sequence  \\\n",
       "0     5.145389  26.586875  ...      45  99.966283     1  0  K.TVDMESTEVFTK.K   \n",
       "\n",
       "                         Modifications Type      Range    Accession  \\\n",
       "0  Acetyl: 1; Oxidation: 4; Phospho: 6  CID  153 - 164  CASA2_BOVIN   \n",
       "\n",
       "                                             Protein  \n",
       "0  Alpha-S2-casein OS=Bos taurus GN=CSN1S2 PE=1 SV=2  \n",
       "\n",
       "[1 rows x 21 columns]"
      ]
     },
     "execution_count": 64,
     "metadata": {},
     "output_type": "execute_result"
    }
   ],
   "source": [
    "df=pd.read_excel(r'2020.01.12_Combined_Ti_1.xlsx')\n",
    "\n",
    "# See dataframe head\n",
    "\n",
    "df.head(1)     "
   ]
  },
  {
   "cell_type": "code",
   "execution_count": 65,
   "metadata": {},
   "outputs": [
    {
     "data": {
      "text/plain": [
       "Index(['Row', 'User Flag', 'OK', 'Cmpd.', 'm/z meas.', 'Mr calc.', 'z',\n",
       "       'Δ m/z [ppm]', 'RMS90 [ppm]', 'Rt [min]', 'Scores', '#Cmpds.', 'Site',\n",
       "       'Rank', 'P', 'Sequence', 'Modifications', 'Type', 'Range', 'Accession',\n",
       "       'Protein'],\n",
       "      dtype='object')"
      ]
     },
     "execution_count": 65,
     "metadata": {},
     "output_type": "execute_result"
    }
   ],
   "source": [
    "#Checking all columns in the dataframe\n",
    "\n",
    "df.columns"
   ]
  },
  {
   "cell_type": "code",
   "execution_count": 66,
   "metadata": {},
   "outputs": [
    {
     "data": {
      "text/html": [
       "<div>\n",
       "<style scoped>\n",
       "    .dataframe tbody tr th:only-of-type {\n",
       "        vertical-align: middle;\n",
       "    }\n",
       "\n",
       "    .dataframe tbody tr th {\n",
       "        vertical-align: top;\n",
       "    }\n",
       "\n",
       "    .dataframe thead th {\n",
       "        text-align: right;\n",
       "    }\n",
       "</style>\n",
       "<table border=\"1\" class=\"dataframe\">\n",
       "  <thead>\n",
       "    <tr style=\"text-align: right;\">\n",
       "      <th></th>\n",
       "      <th>Site</th>\n",
       "      <th>Sequence</th>\n",
       "      <th>Modifications</th>\n",
       "      <th>Accession</th>\n",
       "    </tr>\n",
       "  </thead>\n",
       "  <tbody>\n",
       "    <tr>\n",
       "      <th>0</th>\n",
       "      <td>99.966283</td>\n",
       "      <td>K.TVDMESTEVFTK.K</td>\n",
       "      <td>Acetyl: 1; Oxidation: 4; Phospho: 6</td>\n",
       "      <td>CASA2_BOVIN</td>\n",
       "    </tr>\n",
       "    <tr>\n",
       "      <th>1</th>\n",
       "      <td>NaN</td>\n",
       "      <td>K.VPQLEIVPNSAEER.L</td>\n",
       "      <td>Phospho: 10</td>\n",
       "      <td>CASA1_BOVIN</td>\n",
       "    </tr>\n",
       "    <tr>\n",
       "      <th>2</th>\n",
       "      <td>NaN</td>\n",
       "      <td>K.VPQLEIVPNSAEER.L</td>\n",
       "      <td>Phospho: 10</td>\n",
       "      <td>CASA1_BOVIN</td>\n",
       "    </tr>\n",
       "  </tbody>\n",
       "</table>\n",
       "</div>"
      ],
      "text/plain": [
       "        Site            Sequence                        Modifications  \\\n",
       "0  99.966283    K.TVDMESTEVFTK.K  Acetyl: 1; Oxidation: 4; Phospho: 6   \n",
       "1        NaN  K.VPQLEIVPNSAEER.L                          Phospho: 10   \n",
       "2        NaN  K.VPQLEIVPNSAEER.L                          Phospho: 10   \n",
       "\n",
       "     Accession  \n",
       "0  CASA2_BOVIN  \n",
       "1  CASA1_BOVIN  \n",
       "2  CASA1_BOVIN  "
      ]
     },
     "execution_count": 66,
     "metadata": {},
     "output_type": "execute_result"
    }
   ],
   "source": [
    "PTMS = df[[\"Site\" , \"Sequence\", \"Modifications\", \"Accession\"]]\n",
    "\n",
    "PTMS.head(3)"
   ]
  },
  {
   "cell_type": "code",
   "execution_count": 68,
   "metadata": {},
   "outputs": [
    {
     "data": {
      "text/html": [
       "<div>\n",
       "<style scoped>\n",
       "    .dataframe tbody tr th:only-of-type {\n",
       "        vertical-align: middle;\n",
       "    }\n",
       "\n",
       "    .dataframe tbody tr th {\n",
       "        vertical-align: top;\n",
       "    }\n",
       "\n",
       "    .dataframe thead th {\n",
       "        text-align: right;\n",
       "    }\n",
       "</style>\n",
       "<table border=\"1\" class=\"dataframe\">\n",
       "  <thead>\n",
       "    <tr style=\"text-align: right;\">\n",
       "      <th></th>\n",
       "      <th>Site</th>\n",
       "      <th>Sequence</th>\n",
       "      <th>Modifications</th>\n",
       "      <th>Accession</th>\n",
       "    </tr>\n",
       "  </thead>\n",
       "  <tbody>\n",
       "    <tr>\n",
       "      <th>0</th>\n",
       "      <td>99.966283</td>\n",
       "      <td>K.TVDMESTEVFTK.K</td>\n",
       "      <td>Acetyl: 1; Oxidation: 4; Phospho: 6</td>\n",
       "      <td>CASA2_BOVIN</td>\n",
       "    </tr>\n",
       "    <tr>\n",
       "      <th>1</th>\n",
       "      <td>NaN</td>\n",
       "      <td>K.VPQLEIVPNSAEER.L</td>\n",
       "      <td>Phospho: 10</td>\n",
       "      <td>CASA1_BOVIN</td>\n",
       "    </tr>\n",
       "    <tr>\n",
       "      <th>2</th>\n",
       "      <td>NaN</td>\n",
       "      <td>K.VPQLEIVPNSAEER.L</td>\n",
       "      <td>Phospho: 10</td>\n",
       "      <td>CASA1_BOVIN</td>\n",
       "    </tr>\n",
       "  </tbody>\n",
       "</table>\n",
       "</div>"
      ],
      "text/plain": [
       "        Site            Sequence                        Modifications  \\\n",
       "0  99.966283    K.TVDMESTEVFTK.K  Acetyl: 1; Oxidation: 4; Phospho: 6   \n",
       "1        NaN  K.VPQLEIVPNSAEER.L                          Phospho: 10   \n",
       "2        NaN  K.VPQLEIVPNSAEER.L                          Phospho: 10   \n",
       "\n",
       "     Accession  \n",
       "0  CASA2_BOVIN  \n",
       "1  CASA1_BOVIN  \n",
       "2  CASA1_BOVIN  "
      ]
     },
     "execution_count": 68,
     "metadata": {},
     "output_type": "execute_result"
    },
    {
     "data": {
      "text/plain": [
       "(2541, 4)"
      ]
     },
     "execution_count": 68,
     "metadata": {},
     "output_type": "execute_result"
    },
    {
     "data": {
      "text/plain": [
       "'100%'"
      ]
     },
     "execution_count": 68,
     "metadata": {},
     "output_type": "execute_result"
    }
   ],
   "source": [
    "# Calculating the Selectivity of all hits towards phosphopeptides\n",
    "\n",
    "N_Phospho = PTMS['Modifications'].str.count(\"Phospho\").sum()\n",
    "\n",
    "PTMS.head(3)\n",
    "PTMS.shape\n",
    "\n",
    "Non_Unique_Selectivity = N_Phospho/PTMS.shape[0]\n",
    "\n",
    "\"{:.0%}\".format(Non_Unique_Selectivity)"
   ]
  },
  {
   "cell_type": "markdown",
   "metadata": {},
   "source": [
    "## Taking a look at the unique sequences"
   ]
  },
  {
   "cell_type": "code",
   "execution_count": 145,
   "metadata": {},
   "outputs": [
    {
     "data": {
      "text/html": [
       "<div>\n",
       "<style scoped>\n",
       "    .dataframe tbody tr th:only-of-type {\n",
       "        vertical-align: middle;\n",
       "    }\n",
       "\n",
       "    .dataframe tbody tr th {\n",
       "        vertical-align: top;\n",
       "    }\n",
       "\n",
       "    .dataframe thead th {\n",
       "        text-align: right;\n",
       "    }\n",
       "</style>\n",
       "<table border=\"1\" class=\"dataframe\">\n",
       "  <thead>\n",
       "    <tr style=\"text-align: right;\">\n",
       "      <th></th>\n",
       "      <th>Site</th>\n",
       "      <th>Sequence</th>\n",
       "      <th>Modifications</th>\n",
       "      <th>Accession</th>\n",
       "    </tr>\n",
       "  </thead>\n",
       "  <tbody>\n",
       "    <tr>\n",
       "      <th>0</th>\n",
       "      <td>99.966283</td>\n",
       "      <td>K.TVDMESTEVFTK.K</td>\n",
       "      <td>Acetyl: 1; Oxidation: 4; Phospho: 6</td>\n",
       "      <td>CASA2_BOVIN</td>\n",
       "    </tr>\n",
       "    <tr>\n",
       "      <th>1</th>\n",
       "      <td>NaN</td>\n",
       "      <td>K.VPQLEIVPNSAEER.L</td>\n",
       "      <td>Phospho: 10</td>\n",
       "      <td>CASA1_BOVIN</td>\n",
       "    </tr>\n",
       "    <tr>\n",
       "      <th>11</th>\n",
       "      <td>33.333333</td>\n",
       "      <td>K.DIGSESTEDQAMEDIK.Q</td>\n",
       "      <td>Oxidation: 12; Phospho: 6, 7</td>\n",
       "      <td>CASA1_BOVIN</td>\n",
       "    </tr>\n",
       "  </tbody>\n",
       "</table>\n",
       "</div>"
      ],
      "text/plain": [
       "         Site              Sequence                        Modifications  \\\n",
       "0   99.966283      K.TVDMESTEVFTK.K  Acetyl: 1; Oxidation: 4; Phospho: 6   \n",
       "1         NaN    K.VPQLEIVPNSAEER.L                          Phospho: 10   \n",
       "11  33.333333  K.DIGSESTEDQAMEDIK.Q         Oxidation: 12; Phospho: 6, 7   \n",
       "\n",
       "      Accession  \n",
       "0   CASA2_BOVIN  \n",
       "1   CASA1_BOVIN  \n",
       "11  CASA1_BOVIN  "
      ]
     },
     "execution_count": 145,
     "metadata": {},
     "output_type": "execute_result"
    },
    {
     "data": {
      "text/plain": [
       "(46, 4)"
      ]
     },
     "execution_count": 145,
     "metadata": {},
     "output_type": "execute_result"
    }
   ],
   "source": [
    "Unique_peptides = PTMS.drop_duplicates(subset=['Sequence', 'Modifications'], keep='first')\n",
    "\n",
    "Unique_peptides.head(3)\n",
    "Unique_peptides.shape"
   ]
  },
  {
   "cell_type": "code",
   "execution_count": 146,
   "metadata": {},
   "outputs": [
    {
     "data": {
      "text/html": [
       "<div>\n",
       "<style scoped>\n",
       "    .dataframe tbody tr th:only-of-type {\n",
       "        vertical-align: middle;\n",
       "    }\n",
       "\n",
       "    .dataframe tbody tr th {\n",
       "        vertical-align: top;\n",
       "    }\n",
       "\n",
       "    .dataframe thead th {\n",
       "        text-align: right;\n",
       "    }\n",
       "</style>\n",
       "<table border=\"1\" class=\"dataframe\">\n",
       "  <thead>\n",
       "    <tr style=\"text-align: right;\">\n",
       "      <th></th>\n",
       "      <th>Site</th>\n",
       "      <th>Sequence</th>\n",
       "      <th>Modifications</th>\n",
       "      <th>Accession</th>\n",
       "    </tr>\n",
       "  </thead>\n",
       "  <tbody>\n",
       "    <tr>\n",
       "      <th>0</th>\n",
       "      <td>99.966283</td>\n",
       "      <td>TVDMESTEVFTK</td>\n",
       "      <td>Acetyl: 1; Oxidation: 4; Phospho: 6</td>\n",
       "      <td>CASA2_BOVIN</td>\n",
       "    </tr>\n",
       "    <tr>\n",
       "      <th>1</th>\n",
       "      <td>NaN</td>\n",
       "      <td>VPQLEIVPNSAEER</td>\n",
       "      <td>Phospho: 10</td>\n",
       "      <td>CASA1_BOVIN</td>\n",
       "    </tr>\n",
       "    <tr>\n",
       "      <th>11</th>\n",
       "      <td>33.333333</td>\n",
       "      <td>DIGSESTEDQAMEDIK</td>\n",
       "      <td>Oxidation: 12; Phospho: 6, 7</td>\n",
       "      <td>CASA1_BOVIN</td>\n",
       "    </tr>\n",
       "  </tbody>\n",
       "</table>\n",
       "</div>"
      ],
      "text/plain": [
       "         Site          Sequence                        Modifications  \\\n",
       "0   99.966283      TVDMESTEVFTK  Acetyl: 1; Oxidation: 4; Phospho: 6   \n",
       "1         NaN    VPQLEIVPNSAEER                          Phospho: 10   \n",
       "11  33.333333  DIGSESTEDQAMEDIK         Oxidation: 12; Phospho: 6, 7   \n",
       "\n",
       "      Accession  \n",
       "0   CASA2_BOVIN  \n",
       "1   CASA1_BOVIN  \n",
       "11  CASA1_BOVIN  "
      ]
     },
     "execution_count": 146,
     "metadata": {},
     "output_type": "execute_result"
    },
    {
     "data": {
      "text/plain": [
       "(12, 4)"
      ]
     },
     "execution_count": 146,
     "metadata": {},
     "output_type": "execute_result"
    }
   ],
   "source": [
    "Unique_Sequence = (PTMS\n",
    "                   .drop_duplicates(subset=['Sequence'], keep='first')\n",
    "                   .copy() # i needed copy because of a warning in pandas\n",
    "                  )\n",
    "\n",
    "# clean sequence by removing what's outside of \".\"\n",
    "Unique_Sequence['Sequence'] = Unique_Sequence['Sequence'].apply(lambda seq: seq.split('.')[1])\n",
    "\n",
    "\n",
    "Unique_Sequence.head(3)\n",
    "Unique_Sequence.shape"
   ]
  },
  {
   "cell_type": "code",
   "execution_count": null,
   "metadata": {},
   "outputs": [],
   "source": []
  }
 ],
 "metadata": {
  "kernelspec": {
   "display_name": "Python [conda env:ajudaGoncalo]",
   "language": "python",
   "name": "conda-env-ajudaGoncalo-py"
  },
  "language_info": {
   "codemirror_mode": {
    "name": "ipython",
    "version": 3
   },
   "file_extension": ".py",
   "mimetype": "text/x-python",
   "name": "python",
   "nbconvert_exporter": "python",
   "pygments_lexer": "ipython3",
   "version": "3.9.1"
  }
 },
 "nbformat": 4,
 "nbformat_minor": 4
}
